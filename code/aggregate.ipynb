{
 "cells": [
  {
   "cell_type": "code",
   "execution_count": 13,
   "metadata": {},
   "outputs": [
    {
     "name": "stdout",
     "output_type": "stream",
     "text": [
      "The autoreload extension is already loaded. To reload it, use:\n",
      "  %reload_ext autoreload\n"
     ]
    }
   ],
   "source": [
    "import os\n",
    "import utils\n",
    "import numpy as np\n",
    "from dataloader import TransferLoader\n",
    "from transfer_classifier import *\n",
    "%load_ext autoreload\n",
    "%autoreload 2"
   ]
  },
  {
   "cell_type": "code",
   "execution_count": 23,
   "metadata": {},
   "outputs": [
    {
     "name": "stdout",
     "output_type": "stream",
     "text": [
      "3625 882\n"
     ]
    }
   ],
   "source": [
    "pos = []\n",
    "neg = []\n",
    "for file in os.listdir(utils.data_dir + 'train/'):\n",
    "    reg_id = file.split('reg')[1].split('_')[0]\n",
    "    label = utils.labels_dict[reg_id][1]\n",
    "    if label:\n",
    "        pos.append(file)\n",
    "    else:\n",
    "        neg.append(file)\n",
    "print(len(pos), len(neg))"
   ]
  },
  {
   "cell_type": "markdown",
   "metadata": {},
   "source": [
    "### create toy data with correct output size from transfer learning"
   ]
  },
  {
   "cell_type": "code",
   "execution_count": 9,
   "metadata": {},
   "outputs": [],
   "source": [
    "toy_fnames = ['reg004_slice1', 'reg004_slice2', 'reg014_slice1', 'reg014_slice2']\n",
    "n_filters = 512\n",
    "height = 3\n",
    "width = 3\n",
    "for f in toy_fnames:\n",
    "    fname =  '../../toy_data/' + f\n",
    "    arr = np.random.randn(height, width, n_filters)\n",
    "    np.save(fname, arr)"
   ]
  },
  {
   "cell_type": "code",
   "execution_count": 10,
   "metadata": {},
   "outputs": [
    {
     "name": "stdout",
     "output_type": "stream",
     "text": [
      "(2, 3, 3, 512)\n",
      "(2, 3, 3, 512)\n"
     ]
    }
   ],
   "source": [
    "dataloader = TransferLoader(utils.data_dir + 'transfer/')\n",
    "for d in dataloader:\n",
    "    print(d.shape)"
   ]
  },
  {
   "cell_type": "code",
   "execution_count": 14,
   "metadata": {},
   "outputs": [
    {
     "name": "stdout",
     "output_type": "stream",
     "text": [
      "(3, 3, 512)\n",
      "(3, 3, 512)\n"
     ]
    }
   ],
   "source": [
    "for d in dataloader:\n",
    "    pooled = pool(d)\n",
    "    print(pooled.shape)"
   ]
  },
  {
   "cell_type": "code",
   "execution_count": null,
   "metadata": {},
   "outputs": [],
   "source": []
  }
 ],
 "metadata": {
  "kernelspec": {
   "display_name": "Python 3",
   "language": "python",
   "name": "python3"
  },
  "language_info": {
   "codemirror_mode": {
    "name": "ipython",
    "version": 3
   },
   "file_extension": ".py",
   "mimetype": "text/x-python",
   "name": "python",
   "nbconvert_exporter": "python",
   "pygments_lexer": "ipython3",
   "version": "3.6.1"
  }
 },
 "nbformat": 4,
 "nbformat_minor": 2
}
