{
 "cells": [
  {
   "cell_type": "markdown",
   "metadata": {},
   "source": [
    "# Imports & Setup\n",
    "- We have to use multi-dimensional image viewers for TIF files — standard image viewing in skimage and cv2 only work for RGB images\n",
    "- We can use Fiji (from the ImageJ suite), but napari allows us to perform similar viewing functionality via Python."
   ]
  },
  {
   "cell_type": "code",
   "execution_count": 1,
   "metadata": {},
   "outputs": [
    {
     "name": "stdout",
     "output_type": "stream",
     "text": [
      "The autoreload extension is already loaded. To reload it, use:\n",
      "  %reload_ext autoreload\n"
     ]
    }
   ],
   "source": [
    "# Jupyter magic commands\n",
    "%matplotlib inline\n",
    "%reload_ext autoreload\n",
    "%load_ext autoreload\n",
    "%autoreload 2\n",
    "\n",
    "# napari GUI enabled\n",
    "%matplotlib qt \n",
    "\n",
    "# %gui qt           \n",
    "# if having issues, maybe instead use QT console for jupyter? https://qtconsole.readthedocs.io/en/stable/"
   ]
  },
  {
   "cell_type": "code",
   "execution_count": 46,
   "metadata": {},
   "outputs": [],
   "source": [
    "# general \n",
    "import numpy as np\n",
    "import pandas as pd\n",
    "import scipy.io\n",
    "import pickle\n",
    "import math\n",
    "import os\n",
    "import json\n",
    "\n",
    "# image processing\n",
    "import cv2\n",
    "import PIL\n",
    "from PIL import Image\n",
    "import skimage\n",
    "from skimage import exposure, filters, feature, transform\n",
    "from skimage.color import rgb2gray\n",
    "from skimage.io import imread\n",
    "from dask import delayed # lazy load for large pipelines\n",
    "from skimage.filters.rank import minimum as min_filter\n",
    "from skimage.filters.rank import median as median_filter\n",
    "from skimage.morphology import disk\n",
    "\n",
    "# plotting\n",
    "import seaborn as sns\n",
    "import napari\n",
    "import matplotlib.pyplot as plt"
   ]
  },
  {
   "cell_type": "code",
   "execution_count": 3,
   "metadata": {},
   "outputs": [],
   "source": [
    "# serialization functions to store results\n",
    "def serialize(obj, path):\n",
    "    with open(path, \"wb\") as fh:\n",
    "        pickle.dump(obj, fh)\n",
    "\n",
    "def deserialize(path):\n",
    "    with open(pathh, \"rb\") as fh:\n",
    "        return pickle.load(fh)"
   ]
  },
  {
   "cell_type": "markdown",
   "metadata": {},
   "source": [
    "# Viewing TIF metadata"
   ]
  },
  {
   "cell_type": "code",
   "execution_count": 21,
   "metadata": {},
   "outputs": [],
   "source": [
    "metadata_path = 'data/channelNames.txt'\n",
    "with open(metadata_path, mode='r') as metadata_txt:\n",
    "    metadata = metadata_txt.readlines()   "
   ]
  },
  {
   "cell_type": "code",
   "execution_count": 30,
   "metadata": {},
   "outputs": [
    {
     "name": "stdout",
     "output_type": "stream",
     "text": [
      "['HOECHST1', 'Vimentin', 'CD19', 'CD31', 'HOECHST2', 'CD85j', 'HLA-DR', 'Ki67', 'HOECHST3', 'CD15', 'CD274', 'FAP', 'HOECHST4', 'CD21', 'CD3', 'CD152', 'HOECHST5', 'CD4', 'CD69', 'CD2', 'HOECHST6', 'CD66', 'CD57', 'podoplanin', 'HOECHST7', 'CD8', 'HIF-1a', 'collagen IV', 'HOECHST8', 'CD11c', 'CD154', 'CD56', 'HOECHST9', 'CD54', 'IgM', 'MMP12', 'HOECHST10', 'CD7', 'CD36', 'CD9', 'HOECHST11', 'TCRyd', 'CD1c', 'CD49f', 'HOECHST12', 'CD38', 'CD45', 'CD16', 'HOECHST13', 'CD25', 'Foxp3', 'CD123', 'HOECHST14', 'CD40', 'cytokeratin', 'HLA-ABC', 'HOECHST15', 'CD45RA', 'CD90', 'CD127', 'HOECHST16', 'blank', 'CD278', 'CD185 (CXCR5)', 'HOECHST17', 'blank', 'CD117', 'Glucose Transporter', 'HOECHST18', 'blank', 'CD5', 'CD279', 'HOECHST19', 'blank', 'blank', 'CD273', 'HOECHST20', 'blank', 'blank', 'blank', 'HOECHST21', 'blank', 'blank', 'CD39-bio']\n",
      "\n",
      " ===> We have 84 channels!\n"
     ]
    }
   ],
   "source": [
    "channels = [i.strip(\"\\n\") for i in metadata]\n",
    "print(channels)\n",
    "print(\"\\n ===> We have\", len(channels), \"channels!\")"
   ]
  },
  {
   "cell_type": "markdown",
   "metadata": {},
   "source": [
    "# All dataset paths"
   ]
  },
  {
   "cell_type": "markdown",
   "metadata": {},
   "source": [
    "- HN U54\n",
    "- lung\n",
    "- mouse\n",
    "- sylvia's collab"
   ]
  },
  {
   "cell_type": "markdown",
   "metadata": {},
   "source": [
    "# Link metadata to TIF files\n",
    "- create a dictionary (called 'slices') that associates each channel name to its data"
   ]
  },
  {
   "cell_type": "code",
   "execution_count": 4,
   "metadata": {},
   "outputs": [
    {
     "name": "stdout",
     "output_type": "stream",
     "text": [
      "['.DS_Store', 'reg005_montage.tif']\n"
     ]
    }
   ],
   "source": [
    "data_path = 'data/primary/'\n",
    "dir_contents = os.listdir(data_path)\n",
    "print(dir_contents)"
   ]
  },
  {
   "cell_type": "code",
   "execution_count": 50,
   "metadata": {},
   "outputs": [],
   "source": [
    "reg005_path = data_path + 'reg005_montage.tif'\n",
    "reg005 = Image.open(reg005_path)\n",
    "print()\n",
    "# reg005 = np.array(reg005)"
   ]
  },
  {
   "cell_type": "code",
   "execution_count": 51,
   "metadata": {},
   "outputs": [
    {
     "ename": "AttributeError",
     "evalue": "'TiffImageFile' object has no attribute 'shape'",
     "output_type": "error",
     "traceback": [
      "\u001b[0;31m---------------------------------------------------------------------------\u001b[0m",
      "\u001b[0;31mAttributeError\u001b[0m                            Traceback (most recent call last)",
      "\u001b[0;32m<ipython-input-51-2b79e0738b6a>\u001b[0m in \u001b[0;36m<module>\u001b[0;34m\u001b[0m\n\u001b[0;32m----> 1\u001b[0;31m \u001b[0mprint\u001b[0m\u001b[0;34m(\u001b[0m\u001b[0;34m\"old shape:\"\u001b[0m\u001b[0;34m,\u001b[0m \u001b[0mreg005\u001b[0m\u001b[0;34m.\u001b[0m\u001b[0mshape\u001b[0m\u001b[0;34m)\u001b[0m\u001b[0;34m\u001b[0m\u001b[0;34m\u001b[0m\u001b[0m\n\u001b[0m\u001b[1;32m      2\u001b[0m \u001b[0mD1\u001b[0m\u001b[0;34m,\u001b[0m\u001b[0mH\u001b[0m\u001b[0;34m,\u001b[0m\u001b[0mW\u001b[0m\u001b[0;34m,\u001b[0m\u001b[0mD2\u001b[0m \u001b[0;34m=\u001b[0m \u001b[0mreg005\u001b[0m\u001b[0;34m.\u001b[0m\u001b[0mshape\u001b[0m\u001b[0;34m\u001b[0m\u001b[0;34m\u001b[0m\u001b[0m\n\u001b[1;32m      3\u001b[0m \u001b[0;34m\u001b[0m\u001b[0m\n\u001b[1;32m      4\u001b[0m \u001b[0mreg005r\u001b[0m \u001b[0;34m=\u001b[0m \u001b[0mnp\u001b[0m\u001b[0;34m.\u001b[0m\u001b[0mreshape\u001b[0m\u001b[0;34m(\u001b[0m\u001b[0mreg005\u001b[0m\u001b[0;34m,\u001b[0m \u001b[0;34m(\u001b[0m\u001b[0mD1\u001b[0m\u001b[0;34m*\u001b[0m\u001b[0mD2\u001b[0m\u001b[0;34m,\u001b[0m \u001b[0mH\u001b[0m\u001b[0;34m,\u001b[0m \u001b[0mW\u001b[0m\u001b[0;34m)\u001b[0m\u001b[0;34m)\u001b[0m \u001b[0;31m# reshape\u001b[0m\u001b[0;34m\u001b[0m\u001b[0;34m\u001b[0m\u001b[0m\n\u001b[1;32m      5\u001b[0m \u001b[0mprint\u001b[0m\u001b[0;34m(\u001b[0m\u001b[0;34m\"new shape:\"\u001b[0m\u001b[0;34m,\u001b[0m \u001b[0mreg005r\u001b[0m\u001b[0;34m.\u001b[0m\u001b[0mshape\u001b[0m\u001b[0;34m)\u001b[0m\u001b[0;34m\u001b[0m\u001b[0;34m\u001b[0m\u001b[0m\n",
      "\u001b[0;31mAttributeError\u001b[0m: 'TiffImageFile' object has no attribute 'shape'"
     ]
    }
   ],
   "source": [
    "print(\"old shape:\", reg005.shape)\n",
    "D1,H,W,D2 = reg005.shape\n",
    "\n",
    "reg005r = np.reshape(reg005, (D1*D2, H, W)) # reshape\n",
    "print(\"new shape:\", reg005r.shape)"
   ]
  },
  {
   "cell_type": "code",
   "execution_count": 31,
   "metadata": {},
   "outputs": [],
   "source": [
    "data = [reg005r]"
   ]
  },
  {
   "cell_type": "code",
   "execution_count": 33,
   "metadata": {},
   "outputs": [],
   "source": [
    "d = data[0]\n",
    "slices = {}\n",
    "\n",
    "for idx, channel in enumerate(channels):\n",
    "    slices[channel] = d[idx,:,:]\n",
    "#     print(channel)"
   ]
  },
  {
   "cell_type": "markdown",
   "metadata": {},
   "source": [
    "# Filering out noise\n",
    "- emply a median filter"
   ]
  },
  {
   "cell_type": "code",
   "execution_count": 41,
   "metadata": {},
   "outputs": [
    {
     "data": {
      "text/plain": [
       "(31, 31)"
      ]
     },
     "execution_count": 41,
     "metadata": {},
     "output_type": "execute_result"
    }
   ],
   "source": [
    "f_size = 15 # filter size\n",
    "dfil = disk(f_size)\n",
    "dfil.shape\n",
    "# print(dfil)"
   ]
  },
  {
   "cell_type": "code",
   "execution_count": 42,
   "metadata": {},
   "outputs": [
    {
     "name": "stderr",
     "output_type": "stream",
     "text": [
      "/usr/local/lib/python3.7/site-packages/skimage/filters/rank/generic.py:119: UserWarning: Bad rank filter performance is expected due to a large number of bins (52407), equivalent to an approximate bitdepth of 15.7.\n",
      "  out_dtype)\n",
      "/usr/local/lib/python3.7/site-packages/skimage/filters/rank/generic.py:119: UserWarning: Bad rank filter performance is expected due to a large number of bins (51047), equivalent to an approximate bitdepth of 15.6.\n",
      "  out_dtype)\n",
      "/usr/local/lib/python3.7/site-packages/skimage/filters/rank/generic.py:119: UserWarning: Bad rank filter performance is expected due to a large number of bins (32340), equivalent to an approximate bitdepth of 15.0.\n",
      "  out_dtype)\n",
      "/usr/local/lib/python3.7/site-packages/skimage/filters/rank/generic.py:119: UserWarning: Bad rank filter performance is expected due to a large number of bins (55229), equivalent to an approximate bitdepth of 15.8.\n",
      "  out_dtype)\n"
     ]
    },
    {
     "ename": "KeyboardInterrupt",
     "evalue": "",
     "output_type": "error",
     "traceback": [
      "\u001b[0;31m---------------------------------------------------------------------------\u001b[0m",
      "\u001b[0;31mKeyboardInterrupt\u001b[0m                         Traceback (most recent call last)",
      "\u001b[0;32m<ipython-input-42-01e2cab4131b>\u001b[0m in \u001b[0;36m<module>\u001b[0;34m\u001b[0m\n\u001b[1;32m      2\u001b[0m \u001b[0;32mfor\u001b[0m \u001b[0midx\u001b[0m\u001b[0;34m,\u001b[0m \u001b[0mchannel\u001b[0m \u001b[0;32min\u001b[0m \u001b[0menumerate\u001b[0m\u001b[0;34m(\u001b[0m\u001b[0mchannels\u001b[0m\u001b[0;34m)\u001b[0m\u001b[0;34m:\u001b[0m\u001b[0;34m\u001b[0m\u001b[0;34m\u001b[0m\u001b[0m\n\u001b[1;32m      3\u001b[0m     \u001b[0mchi\u001b[0m \u001b[0;34m=\u001b[0m \u001b[0mslices\u001b[0m\u001b[0;34m[\u001b[0m\u001b[0mchannel\u001b[0m\u001b[0;34m]\u001b[0m \u001b[0;31m# channel 0\u001b[0m\u001b[0;34m\u001b[0m\u001b[0;34m\u001b[0m\u001b[0m\n\u001b[0;32m----> 4\u001b[0;31m     \u001b[0mchif\u001b[0m \u001b[0;34m=\u001b[0m \u001b[0mmedian_filter\u001b[0m\u001b[0;34m(\u001b[0m\u001b[0mchi\u001b[0m\u001b[0;34m,\u001b[0m \u001b[0mdfil\u001b[0m\u001b[0;34m)\u001b[0m \u001b[0;31m# filtered\u001b[0m\u001b[0;34m\u001b[0m\u001b[0;34m\u001b[0m\u001b[0m\n\u001b[0m\u001b[1;32m      5\u001b[0m \u001b[0;31m#     plt.imshow(chif)\u001b[0m\u001b[0;34m\u001b[0m\u001b[0;34m\u001b[0m\u001b[0;34m\u001b[0m\u001b[0m\n",
      "\u001b[0;32m/usr/local/lib/python3.7/site-packages/skimage/filters/rank/generic.py\u001b[0m in \u001b[0;36mfunc_out\u001b[0;34m(image, selem, *args, **kwargs)\u001b[0m\n\u001b[1;32m    157\u001b[0m         \u001b[0;32mif\u001b[0m \u001b[0mselem\u001b[0m \u001b[0;32mis\u001b[0m \u001b[0;32mNone\u001b[0m\u001b[0;34m:\u001b[0m\u001b[0;34m\u001b[0m\u001b[0;34m\u001b[0m\u001b[0m\n\u001b[1;32m    158\u001b[0m             \u001b[0mselem\u001b[0m \u001b[0;34m=\u001b[0m \u001b[0mndi\u001b[0m\u001b[0;34m.\u001b[0m\u001b[0mgenerate_binary_structure\u001b[0m\u001b[0;34m(\u001b[0m\u001b[0mimage\u001b[0m\u001b[0;34m.\u001b[0m\u001b[0mndim\u001b[0m\u001b[0;34m,\u001b[0m \u001b[0mimage\u001b[0m\u001b[0;34m.\u001b[0m\u001b[0mndim\u001b[0m\u001b[0;34m)\u001b[0m\u001b[0;34m\u001b[0m\u001b[0;34m\u001b[0m\u001b[0m\n\u001b[0;32m--> 159\u001b[0;31m         \u001b[0;32mreturn\u001b[0m \u001b[0mfunc\u001b[0m\u001b[0;34m(\u001b[0m\u001b[0mimage\u001b[0m\u001b[0;34m,\u001b[0m \u001b[0mselem\u001b[0m\u001b[0;34m=\u001b[0m\u001b[0mselem\u001b[0m\u001b[0;34m,\u001b[0m \u001b[0;34m*\u001b[0m\u001b[0margs\u001b[0m\u001b[0;34m,\u001b[0m \u001b[0;34m**\u001b[0m\u001b[0mkwargs\u001b[0m\u001b[0;34m)\u001b[0m\u001b[0;34m\u001b[0m\u001b[0;34m\u001b[0m\u001b[0m\n\u001b[0m\u001b[1;32m    160\u001b[0m \u001b[0;34m\u001b[0m\u001b[0m\n\u001b[1;32m    161\u001b[0m     \u001b[0;32mreturn\u001b[0m \u001b[0mfunc_out\u001b[0m\u001b[0;34m\u001b[0m\u001b[0;34m\u001b[0m\u001b[0m\n",
      "\u001b[0;32m/usr/local/lib/python3.7/site-packages/skimage/filters/rank/generic.py\u001b[0m in \u001b[0;36mmedian\u001b[0;34m(image, selem, out, mask, shift_x, shift_y)\u001b[0m\n\u001b[1;32m    538\u001b[0m     return _apply_scalar_per_pixel(generic_cy._median, image, selem,\n\u001b[1;32m    539\u001b[0m                                    \u001b[0mout\u001b[0m\u001b[0;34m=\u001b[0m\u001b[0mout\u001b[0m\u001b[0;34m,\u001b[0m \u001b[0mmask\u001b[0m\u001b[0;34m=\u001b[0m\u001b[0mmask\u001b[0m\u001b[0;34m,\u001b[0m\u001b[0;34m\u001b[0m\u001b[0;34m\u001b[0m\u001b[0m\n\u001b[0;32m--> 540\u001b[0;31m                                    shift_x=shift_x, shift_y=shift_y)\n\u001b[0m\u001b[1;32m    541\u001b[0m \u001b[0;34m\u001b[0m\u001b[0m\n\u001b[1;32m    542\u001b[0m \u001b[0;34m\u001b[0m\u001b[0m\n",
      "\u001b[0;32m/usr/local/lib/python3.7/site-packages/skimage/filters/rank/generic.py\u001b[0m in \u001b[0;36m_apply_scalar_per_pixel\u001b[0;34m(func, image, selem, out, mask, shift_x, shift_y, out_dtype)\u001b[0m\n\u001b[1;32m    120\u001b[0m \u001b[0;34m\u001b[0m\u001b[0m\n\u001b[1;32m    121\u001b[0m     func(image, selem, shift_x=shift_x, shift_y=shift_y, mask=mask,\n\u001b[0;32m--> 122\u001b[0;31m          out=out, n_bins=n_bins)\n\u001b[0m\u001b[1;32m    123\u001b[0m \u001b[0;34m\u001b[0m\u001b[0m\n\u001b[1;32m    124\u001b[0m     \u001b[0;32mreturn\u001b[0m \u001b[0mout\u001b[0m\u001b[0;34m.\u001b[0m\u001b[0mreshape\u001b[0m\u001b[0;34m(\u001b[0m\u001b[0mout\u001b[0m\u001b[0;34m.\u001b[0m\u001b[0mshape\u001b[0m\u001b[0;34m[\u001b[0m\u001b[0;34m:\u001b[0m\u001b[0;36m2\u001b[0m\u001b[0;34m]\u001b[0m\u001b[0;34m)\u001b[0m\u001b[0;34m\u001b[0m\u001b[0;34m\u001b[0m\u001b[0m\n",
      "\u001b[0;31mKeyboardInterrupt\u001b[0m: "
     ]
    }
   ],
   "source": [
    "# Median filter\n",
    "for idx, channel in enumerate(channels):\n",
    "    chi = slices[channel] # channel 0\n",
    "    chif = median_filter(chi, dfil) # filtered\n",
    "#     plt.imshow(chif)"
   ]
  },
  {
   "cell_type": "markdown",
   "metadata": {},
   "source": [
    "# Thresholding"
   ]
  },
  {
   "cell_type": "code",
   "execution_count": null,
   "metadata": {},
   "outputs": [],
   "source": []
  },
  {
   "cell_type": "code",
   "execution_count": null,
   "metadata": {},
   "outputs": [],
   "source": []
  },
  {
   "cell_type": "markdown",
   "metadata": {},
   "source": [
    "# Viewing TIF files\n",
    "- calling napari.view_image pops up a GUI for interactive viewing"
   ]
  },
  {
   "cell_type": "code",
   "execution_count": null,
   "metadata": {},
   "outputs": [],
   "source": [
    "# viewer = napari.view_image(reg005r, rgb=False)"
   ]
  },
  {
   "cell_type": "code",
   "execution_count": null,
   "metadata": {},
   "outputs": [],
   "source": []
  },
  {
   "cell_type": "markdown",
   "metadata": {},
   "source": [
    "# Initial analysis"
   ]
  },
  {
   "cell_type": "code",
   "execution_count": null,
   "metadata": {},
   "outputs": [],
   "source": [
    "# check mutual information of channels"
   ]
  }
 ],
 "metadata": {
  "kernelspec": {
   "display_name": "Python 3",
   "language": "python",
   "name": "python3"
  },
  "language_info": {
   "codemirror_mode": {
    "name": "ipython",
    "version": 3
   },
   "file_extension": ".py",
   "mimetype": "text/x-python",
   "name": "python",
   "nbconvert_exporter": "python",
   "pygments_lexer": "ipython3",
   "version": "3.7.6"
  }
 },
 "nbformat": 4,
 "nbformat_minor": 4
}
