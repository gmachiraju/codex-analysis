{
 "cells": [
  {
   "cell_type": "code",
   "execution_count": 14,
   "metadata": {},
   "outputs": [
    {
     "name": "stdout",
     "output_type": "stream",
     "text": [
      "13069 4449 4507\n"
     ]
    }
   ],
   "source": [
    "import glob\n",
    "import os\n",
    "import sys\n",
    "import numpy as np\n",
    "import pdb\n",
    "import shutil\n",
    "from pprint import pprint # for printing dictionaries\n",
    "import utils\n",
    "\n",
    "train_dir = '/home/disk2/train/'\n",
    "val_dir = '/home/disk2/val/'\n",
    "test_dir = '/home/data/test/'\n",
    "\n",
    "new_val_dir = '/home/data/val_balance/'\n",
    "new_test_dir = '/home/data/test_balance/'\n",
    "\n",
    "train_len = len(os.listdir(train_dir))\n",
    "val_len = len(os.listdir(val_dir))\n",
    "test_len = len(os.listdir(test_dir))\n",
    "print(train_len, val_len, test_len)\n",
    "\n",
    "# train_dir = '/home/data/train/'\n",
    "# val_dir = '/home/disk2/val/'\n",
    "# test_dir = '/home/data/test/'\n",
    "# transfer_dir = '/scratch/users/gmachi/codex/transfer/'\n",
    "# model_dir = '/home/disk2/model/'\n",
    "\n",
    "\n",
    "labels_dict = {\"005\": (\"test\", 0),\n",
    "            \"006\": (\"test\", 1),\n",
    "            \"017\": (\"test\", 1),\n",
    "            \"019\": (\"test\", 1),\n",
    "            \"011\": (\"val\", 0),\n",
    "            \"016\": (\"val\", 1),\n",
    "            \"030\": (\"val\", 1),\n",
    "            \"023\": (\"val\", 1),\n",
    "            \"004\": (\"train\", 0),\n",
    "            \"015\": (\"train\", 0),\n",
    "            \"014\": (\"train\", 1),\n",
    "            \"024\": (\"train\", 1),\n",
    "            \"020\": (\"train\", 1),\n",
    "            \"007\": (\"train\", 1),\n",
    "            \"008\": (\"train\", 1),\n",
    "            \"027\": (\"train\", 1),\n",
    "            \"034\": (\"train\", 1),\n",
    "            \"012\": (\"train\", 1)} "
   ]
  },
  {
   "cell_type": "code",
   "execution_count": 19,
   "metadata": {},
   "outputs": [],
   "source": [
    "def files_to_move(dir):\n",
    "    all_files = os.listdir(dir)  \n",
    "    negatives = []\n",
    "    positives = []\n",
    "    \n",
    "    for i, x in enumerate(all_files):\n",
    "\n",
    "        reg = x.split(\"_\")[0].split(\"reg\")[1]\n",
    "        patch = x.split(\"_\")[1].split(\"patch\")[1]\n",
    "        \n",
    "#         # remove extraneous dashes\n",
    "#         if \"-\" in patch:\n",
    "#             patch = patch[1:]\n",
    "                    \n",
    "        if labels_dict[reg][1] == 0: # use all ~900 neg's\n",
    "            negatives.append(x)\n",
    "        else:\n",
    "            positives.append(x)\n",
    "    \n",
    "    positives = list(np.random.choice(positives, len(negatives)*2, replace=False)) # downsample: 3600->1800 pos's\n",
    "    to_move = positives + negatives\n",
    "                    \n",
    "    return to_move\n",
    "        \n",
    "\n",
    "def count_files(l):\n",
    "    return len([1 for x in l])\n",
    "\n",
    "def unique_files(l):\n",
    "    return set([x.split(\"_\")[0].split(\"reg\")[1] for x in l])\n",
    "\n",
    "def set_splits(l):\n",
    "    uniq = set(l)\n",
    "    print(len(uniq))\n",
    "    all_files = [x.split(\"_\")[0].split(\"reg\")[1] for x in l]\n",
    "    labels = [labels_dict[u][1] for u in all_files]\n",
    "    pos = np.sum(labels)\n",
    "    neg = len(labels) - pos\n",
    "    return pos, neg  "
   ]
  },
  {
   "cell_type": "code",
   "execution_count": 54,
   "metadata": {},
   "outputs": [],
   "source": [
    "# print(\"\\ndict of augmentations...\\n------------------------\")\n",
    "# print(\"train augmentations:\")\n",
    "# pprint(augmentations_per_reg(train_dir))\n",
    "# print(\"val augmentations:\")\n",
    "# pprint(augmentations_per_reg(val_dir))\n",
    "# print(\"test augmentations:\")\n",
    "# pprint(augmentations_per_reg(test_dir))\n"
   ]
  },
  {
   "cell_type": "code",
   "execution_count": 16,
   "metadata": {},
   "outputs": [
    {
     "name": "stdout",
     "output_type": "stream",
     "text": [
      "2625\n",
      "2646\n"
     ]
    }
   ],
   "source": [
    "# create list of files to use for train\n",
    "#---------------------------------------\n",
    "\n",
    "val_to_move = files_to_move(val_dir)\n",
    "test_to_move = files_to_move(test_dir)\n",
    "\n",
    "print(len(val_to_move))\n",
    "print(len(test_to_move))\n"
   ]
  },
  {
   "cell_type": "code",
   "execution_count": 20,
   "metadata": {},
   "outputs": [
    {
     "name": "stdout",
     "output_type": "stream",
     "text": [
      "After augmentation/up-sampling, we have...\n",
      "------------------------------------------\n",
      "val set size: 2625\n",
      "test set size: 2646\n",
      "\n",
      "See composition of patients in sets...\n",
      "--------------------------------------\n",
      "val set unique files: {'030', '016', '011', '023'}\n",
      "test set unique files: {'005', '019', '006', '017'}\n",
      "\n",
      "(+/-) splits in sets...\n",
      "-----------------------\n",
      "2625\n",
      "val set split: (1750, 875)\n",
      "2646\n",
      "test set split: (1764, 882)\n"
     ]
    }
   ],
   "source": [
    "\n",
    "# checking summary stats for this migrated set\n",
    "#---------------------------------------------\n",
    "\n",
    "print(\"After augmentation/up-sampling, we have...\\n------------------------------------------\")\n",
    "print(\"val set size:\", count_files(val_to_move))\n",
    "print(\"test set size:\", count_files(test_to_move))\n",
    "\n",
    "print(\"\\nSee composition of patients in sets...\\n--------------------------------------\")\n",
    "print(\"val set unique files:\", unique_files(val_to_move))\n",
    "print(\"test set unique files:\", unique_files(test_to_move))\n",
    "\n",
    "print(\"\\n(+/-) splits in sets...\\n-----------------------\")\n",
    "print(\"val set split:\", set_splits(val_to_move))\n",
    "print(\"test set split:\", set_splits(test_to_move))\n"
   ]
  },
  {
   "cell_type": "code",
   "execution_count": 22,
   "metadata": {},
   "outputs": [
    {
     "name": "stderr",
     "output_type": "stream",
     "text": [
      "100%|██████████| 2625/2625 [04:27<00:00,  9.82it/s]\n",
      "100%|██████████| 2646/2646 [06:27<00:00,  9.32it/s]\n"
     ]
    }
   ],
   "source": [
    "# execute migration\n",
    "#------------------\n",
    "    \n",
    "# val_dir = '/scratch/users/gmachi/codex/data/val/'\n",
    "# new_val_dir = '/scratch/users/gmachi/codex/data_balance/val_balance/'\n",
    "from tqdm import tqdm\n",
    "\n",
    "for f in tqdm(val_to_move):\n",
    "    shutil.copy(val_dir + f, new_val_dir + f) # COPY not move!!!\n",
    "    \n",
    "# test_dir = '/scratch/users/gmachi/codex/data/test/'\n",
    "# new_test_dir = '/scratch/users/gmachi/codex/data_balance/test_balance/'\n",
    "\n",
    "for f in tqdm(test_to_move):\n",
    "    shutil.copy(test_dir + f, new_test_dir + f) # COPY not move!!!\n",
    "    \n",
    "    \n",
    "    "
   ]
  },
  {
   "cell_type": "code",
   "execution_count": null,
   "metadata": {},
   "outputs": [],
   "source": []
  }
 ],
 "metadata": {
  "kernelspec": {
   "display_name": "Python 3",
   "language": "python",
   "name": "python3"
  },
  "language_info": {
   "codemirror_mode": {
    "name": "ipython",
    "version": 3
   },
   "file_extension": ".py",
   "mimetype": "text/x-python",
   "name": "python",
   "nbconvert_exporter": "python",
   "pygments_lexer": "ipython3",
   "version": "3.6.1"
  }
 },
 "nbformat": 4,
 "nbformat_minor": 2
}
